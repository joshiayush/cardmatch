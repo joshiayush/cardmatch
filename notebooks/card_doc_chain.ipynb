{
  "nbformat": 4,
  "nbformat_minor": 0,
  "metadata": {
    "colab": {
      "provenance": [],
      "include_colab_link": true
    },
    "kernelspec": {
      "name": "python3",
      "display_name": "Python 3"
    },
    "language_info": {
      "name": "python"
    }
  },
  "cells": [
    {
      "cell_type": "markdown",
      "metadata": {
        "id": "view-in-github",
        "colab_type": "text"
      },
      "source": [
        "<a href=\"https://colab.research.google.com/github/joshiayush/cardmatch/blob/main/notebooks/card_doc_chain.ipynb\" target=\"_parent\"><img src=\"https://colab.research.google.com/assets/colab-badge.svg\" alt=\"Open In Colab\"/></a>"
      ]
    },
    {
      "cell_type": "code",
      "source": [
        "!pip install langchain >/dev/null\n",
        "!pip install langchain-groq >/dev/null\n",
        "!pip install langchain-community >/dev/null\n",
        "!pip install langchain-openai >/dev/null"
      ],
      "metadata": {
        "id": "tUPLoZRdkeNv"
      },
      "execution_count": null,
      "outputs": []
    },
    {
      "cell_type": "code",
      "execution_count": null,
      "metadata": {
        "id": "UX7h1Oc_kSmj",
        "cellView": "form"
      },
      "outputs": [],
      "source": [
        "#@title Extraction Prompt\n",
        "credit_cards_details_extractor_prompt = \"\"\"### Instructions for Large Language Model (LLM) to Extract Credit Card Data\n",
        "\n",
        "1. **Input**:\n",
        "   The input will be a scraped document about a credit card. It may contain structured or unstructured text with details about the card, its features, fees, and rewards.\n",
        "\n",
        "2. **Output**:\n",
        "   The model should return a JSON object. **If any specific detail is not found in the document, mark that field as `\"null\"`**.\n",
        "\n",
        "### Example Output\n",
        "If the document contains only partial information, such as card name, issuer, joining fees, and online shopping benefits, the output JSON should look like:\n",
        "\n",
        "```json\n",
        "{{\n",
        "  \"card_name\": \"SBI Card ELITE\",\n",
        "  \"card_category\": \"Lifestyle\",\n",
        "  \"card_issuer\": \"SBI\",\n",
        "  \"card_network\": \"Visa\",\n",
        "  \"card_co_brand_name\": \"null\",\n",
        "  \"joining_fees\": 4999,\n",
        "  \"annual_fees\": 4999,\n",
        "  \"annual_fees_waived_off\": \"Spend INR 10 Lakh or more in a year to get a fee waiver\",\n",
        "  \"card_replacement_fees\": \"null\",\n",
        "  \"minimum_repayment_amount\": \"null\",\n",
        "  \"cash_withdrawal_fee\": \"2.5% of the withdrawn amount or INR 500, whichever is higher\",\n",
        "  \"cash_advance_fee\": \"null\",\n",
        "  \"over_limit_fee\": \"2.5% of over-limit amount or INR 600, whichever is higher\",\n",
        "  \"late_payment_charges\": [\n",
        "    \"Nil for total amount due from INR 0 to INR 500\",\n",
        "    \"INR 400 for total amount due greater than INR 500 & up to INR 1,000\",\n",
        "    \"INR 750 for total amount due greater than INR 1,000 & up to INR 10,000\",\n",
        "    \"INR 950 for total amount due greater than INR 10,000 & up to INR 25,000\",\n",
        "    \"INR 1,100 for total amount due greater than INR 25,000 & up to INR 50,000\",\n",
        "    \"INR 1,300 for total amount due greater than INR 50,000\"\n",
        "  ],\n",
        "  \"return_of_cheque_charges\": \"INR 500\",\n",
        "  \"auto_debit_return_charges\": [\n",
        "    \"INR 500 per returned transaction\"\n",
        "  ],\n",
        "  \"foreign_transaction_fee\": \"3.5% of the transaction amount\",\n",
        "  \"rent_pay_transaction_fee\": \"null\",\n",
        "  \"education_transaction_fee\": \"null\",\n",
        "  \"utility_transaction_fee\": \"null\",\n",
        "  \"fuel_transaction_fee\": \"null\",\n",
        "  \"fuel_transaction_surcharge\": \"1% surcharge waiver on fuel transactions across all petrol pumps for transactions between INR 500 to INR 4,000, maximum waiver of INR 250 per statement cycle\",\n",
        "  \"welcome_benefits\": [\n",
        "    \"INR 5,000 worth of e-vouchers from Pantaloons, Hush Puppies/Bata, Aditya Birla Fashion, Shoppers Stop, and Yatra\"\n",
        "  ],\n",
        "  \"benefits_on_amazon\": \"null\",\n",
        "  \"benefits_on_flipkart\": \"null\",\n",
        "  \"benefits_on_myntra\": \"null\",\n",
        "  \"benefits_on_messho\": \"null\",\n",
        "  \"benefits_on_ola\": \"null\",\n",
        "  \"benefits_on_uber\": \"null\",\n",
        "  \"benefits_on_rapido\": \"null\",\n",
        "  \"benefits_on_zomato\": \"null\",\n",
        "  \"benefits_on_swiggy\": \"null\",\n",
        "  \"benefits_on_blinkit\": \"null\",\n",
        "  \"benefits_on_flipkart_grocery_minutes\": \"null\",\n",
        "  \"benefits_on_zepto\": \"null\",\n",
        "  \"benefits_on_big_basket\": \"null\",\n",
        "  \"benefits_on_dmart\": \"null\",\n",
        "  \"benefits_on_reliance_fresh\": \"null\",\n",
        "  \"benefits_on_tata_star_bazzar\": \"null\",\n",
        "  \"benefits_on_vishal_mega_mart\": \"null\",\n",
        "  \"benefits_on_dominos\": \"null\",\n",
        "  \"benefits_on_kfc\": \"null\",\n",
        "  \"benefits_on_burger_king\": \"null\",\n",
        "  \"benefits_on_wow_momo\": \"null\",\n",
        "  \"benefits_on_mc_donalds\": \"null\",\n",
        "  \"benefits_on_other_online_spends\": [\n",
        "    \"5x Reward Points on Departmental Stores, Dining, Movies, Grocery, and International Transactions\"\n",
        "  ],\n",
        "  \"benefits_on_other_offline_spends\": \"null\",\n",
        "  \"benefits_on_mobile_recharge\": \"null\",\n",
        "  \"benefits_on_water_bill\": \"null\",\n",
        "  \"benefits_on_gas_bill\": \"null\",\n",
        "  \"benefits_on_electricity_bill\": \"null\",\n",
        "  \"benefits_on_upi\": \"null\",\n",
        "  \"benefits_on_insurance\": \"null\",\n",
        "  \"benefits_on_govt_payments\": \"null\",\n",
        "  \"benefits_on_rent_payments\": \"null\",\n",
        "  \"benefits_on_fuel\": [\n",
        "    \"1% fuel surcharge waiver\"\n",
        "  ],\n",
        "  \"benefits_on_travel\": [\n",
        "    \"Complimentary Club Vistara Silver Membership\",\n",
        "    \"6 Complimentary Domestic Lounge Access visits per year\"\n",
        "  ],\n",
        "  \"benefits_on_lounge_access\": [\n",
        "    \"Complimentary Priority Pass Membership for the primary cardholder\",\n",
        "    \"2 Complimentary International Lounge Visits per quarter through Priority Pass Program\"\n",
        "  ],\n",
        "  \"other_rewards\": \"null\"\n",
        "}}\n",
        "```\n",
        "\n",
        "### Document\n",
        "\n",
        "{document}\n",
        "\"\"\""
      ]
    },
    {
      "cell_type": "code",
      "source": [
        "import os\n",
        "import getpass"
      ],
      "metadata": {
        "id": "_Epmou21pS0t"
      },
      "execution_count": null,
      "outputs": []
    },
    {
      "cell_type": "code",
      "source": [
        "os.environ[\"LANGCHAIN_API_KEY\"] = getpass.getpass(\"LANGCHAIN_API_KEY: \")\n",
        "os.environ[\"OPENAI_API_KEY\"] = getpass.getpass(\"OPENAI_API_KEY: \")"
      ],
      "metadata": {
        "colab": {
          "base_uri": "https://localhost:8080/"
        },
        "id": "XTVDsQe7o1Nv",
        "outputId": "a861fc1b-f76f-4fac-9173-8d719a67c09c"
      },
      "execution_count": null,
      "outputs": [
        {
          "name": "stdout",
          "output_type": "stream",
          "text": [
            "GROQ_API_KEY: ··········\n",
            "LANGCHAIN_API_KEY: ··········\n",
            "OPENAI_API_KEY: ··········\n"
          ]
        }
      ]
    },
    {
      "cell_type": "code",
      "source": [
        "import os\n",
        "import logging\n",
        "import json\n",
        "import re\n",
        "from typing import Dict, List\n",
        "\n",
        "import numpy as np\n",
        "import pandas as pd\n",
        "from langchain_openai import ChatOpenAI\n",
        "from langchain_core.prompts import ChatPromptTemplate\n",
        "from langchain_core.output_parsers import StrOutputParser\n",
        "from langchain_community.document_loaders import WebBaseLoader\n",
        "from langchain_core.pydantic_v1 import BaseModel, Field"
      ],
      "metadata": {
        "id": "SBhnyFjpk8C-",
        "colab": {
          "base_uri": "https://localhost:8080/"
        },
        "outputId": "6a7ecb9a-da4a-4c57-c9cc-1ba38611ec40"
      },
      "execution_count": null,
      "outputs": [
        {
          "output_type": "stream",
          "name": "stderr",
          "text": [
            "WARNING:langchain_community.utils.user_agent:USER_AGENT environment variable not set, consider setting it to identify your requests.\n",
            "/usr/local/lib/python3.11/dist-packages/IPython/core/interactiveshell.py:3553: LangChainDeprecationWarning: As of langchain-core 0.3.0, LangChain uses pydantic v2 internally. The langchain_core.pydantic_v1 module was a compatibility shim for pydantic v1, and should no longer be used. Please update the code to import from Pydantic directly.\n",
            "\n",
            "For example, replace imports like: `from langchain_core.pydantic_v1 import BaseModel`\n",
            "with: `from pydantic import BaseModel`\n",
            "or the v1 compatibility namespace if you are working in a code base that has not been fully upgraded to pydantic 2 yet. \tfrom pydantic.v1 import BaseModel\n",
            "\n",
            "  exec(code_obj, self.user_global_ns, self.user_ns)\n"
          ]
        }
      ]
    },
    {
      "cell_type": "code",
      "source": [
        "_cc_sheets = [\"sbi\", \"axis\", \"hdfc\"]\n",
        "\n",
        "\n",
        "def load_cc_info() -> Dict:\n",
        "    cc_info = dict()\n",
        "    for sheet in _cc_sheets:\n",
        "        df = pd.read_excel(\"cc_urls.xlsx\", sheet_name=sheet)\n",
        "        cc_info.update(df.set_index(\"card_name\").T.to_dict())\n",
        "    return cc_info"
      ],
      "metadata": {
        "id": "ifcZidkWk9il"
      },
      "execution_count": null,
      "outputs": []
    },
    {
      "cell_type": "code",
      "source": [
        "credit_cards_info = load_cc_info()"
      ],
      "metadata": {
        "colab": {
          "base_uri": "https://localhost:8080/"
        },
        "id": "c9ExvGXmlRBf",
        "outputId": "0d493e7f-c6e8-4a83-8a2d-a16c7182f847"
      },
      "execution_count": null,
      "outputs": [
        {
          "output_type": "stream",
          "name": "stderr",
          "text": [
            "<ipython-input-6-481e6df65adc>:8: UserWarning: DataFrame columns are not unique, some columns will be omitted.\n",
            "  cc_info.update(df.set_index(\"card_name\").T.to_dict())\n",
            "<ipython-input-6-481e6df65adc>:8: UserWarning: DataFrame columns are not unique, some columns will be omitted.\n",
            "  cc_info.update(df.set_index(\"card_name\").T.to_dict())\n"
          ]
        }
      ]
    },
    {
      "cell_type": "code",
      "source": [
        "def llm_response_to_json(message: str) -> Dict:\n",
        "    \"\"\"Structures the model response into JSON format.\n",
        "\n",
        "    This function provides a unified value for all the responses obtained from the\n",
        "    model.\n",
        "\n",
        "    Args:\n",
        "        message: The message string obtained from the JSON response.\n",
        "\n",
        "    Returns:\n",
        "        The JSON response.\n",
        "    \"\"\"\n",
        "    data = {\n",
        "        \"type\": None,\n",
        "        \"data\": None,\n",
        "    }\n",
        "\n",
        "    try:\n",
        "        # Attempt to parse the JSON response\n",
        "        response = json.loads(message.replace(\"\\n\", \"\"))\n",
        "        data[\"type\"] = \"json\"\n",
        "        data[\"data\"] = response\n",
        "    except json.JSONDecodeError:\n",
        "        logging.warn(\"Parsing failed, attempting to extract JSON from a code block.\")\n",
        "        try:\n",
        "            response = message.split(\"```json\")[1].split(\"```\")[0].strip()\n",
        "            response = json.loads(response)\n",
        "            data[\"type\"] = \"json\"\n",
        "            data[\"data\"] = response\n",
        "        except (IndexError, json.JSONDecodeError):\n",
        "            logging.exception('Cannot parse JSON string \"%s\"' % message)\n",
        "\n",
        "    if not data[\"data\"]:\n",
        "        data[\"type\"] = \"text\"\n",
        "        data[\"data\"] = message\n",
        "\n",
        "    return data"
      ],
      "metadata": {
        "id": "TuRBR1wCmAsK"
      },
      "execution_count": null,
      "outputs": []
    },
    {
      "cell_type": "code",
      "source": [
        "def get_credit_card_unique_name(url: str) -> str:\n",
        "    \"\"\"Takes a URL and returns the last part of the URL after the last '/'.\n",
        "\n",
        "    Args:\n",
        "        url (str): The input URL.\n",
        "\n",
        "    Returns:\n",
        "        str: The last part of the URL.\n",
        "    \"\"\"\n",
        "    return url.rstrip('/').split('/')[-1]"
      ],
      "metadata": {
        "id": "dUKdA-iapIL1"
      },
      "execution_count": null,
      "outputs": []
    },
    {
      "cell_type": "code",
      "source": [
        "def load_docs_from_urls(cc_info: Dict, /, *, revised: bool = False) -> List[Dict]:\n",
        "    \"\"\"Loads a credit card JSON doc from each url.\"\"\"\n",
        "    json_docs = list()\n",
        "\n",
        "\n",
        "    llm = ChatOpenAI()\n",
        "    prompt_template = ChatPromptTemplate.from_template(credit_cards_details_extractor_prompt)\n",
        "    chain = prompt_template | llm | StrOutputParser()\n",
        "\n",
        "    for key, info in cc_info.items():\n",
        "        if info[\"card_link\"] is np.nan:\n",
        "            continue\n",
        "\n",
        "        scraped_data_loader = WebBaseLoader(info[\"card_link\"])\n",
        "        scraped_documents = scraped_data_loader.load()\n",
        "\n",
        "        # replace multiple new lines and multiple spaces with a single one\n",
        "        document = re.sub(r'(\\r\\n|\\r|\\n){2,}', r'\\n', scraped_documents[0].page_content)\n",
        "        document = re.sub(r'[ \\t]+', ' ', document)\n",
        "\n",
        "        res = chain.invoke({\"document\": document})\n",
        "\n",
        "        json_doc = llm_response_to_json(res)[\"data\"]\n",
        "        json_doc[\"card_name\"] = key\n",
        "        json_doc[\"source\"] = scraped_documents[0].metadata[\"source\"]\n",
        "        json_doc[\"card_image\"] = info[\"card_image\"]\n",
        "        json_doc[\"tnc\"] = info[\"tnc\"]\n",
        "        json_doc[\"unique_name\"] = get_credit_card_unique_name(\n",
        "            scraped_documents[0].metadata[\"source\"]\n",
        "        )\n",
        "\n",
        "        json_docs.append(json_doc)\n",
        "    return json_docs"
      ],
      "metadata": {
        "id": "2VeH3398mJ_h"
      },
      "execution_count": null,
      "outputs": []
    },
    {
      "cell_type": "code",
      "source": [
        "load_docs_from_urls(credit_cards_info)"
      ],
      "metadata": {
        "colab": {
          "base_uri": "https://localhost:8080/"
        },
        "id": "RTyL_wfZpy1H",
        "outputId": "9c09aa54-7036-4ad2-aa31-b810e1db83d5"
      },
      "execution_count": null,
      "outputs": [
        {
          "output_type": "stream",
          "name": "stderr",
          "text": [
            "<ipython-input-12-e1758c220125>:24: DeprecationWarning: The 'warn' function is deprecated, use 'warning' instead\n",
            "  logging.warn(\"Parsing failed, attempting to extract JSON from a code block.\")\n",
            "WARNING:root:Parsing failed, attempting to extract JSON from a code block.\n"
          ]
        },
        {
          "output_type": "execute_result",
          "data": {
            "text/plain": [
              "[{'card_name': 'SBI Card ELITE',\n",
              "  'card_category': 'Lifestyle',\n",
              "  'card_issuer': 'SBI',\n",
              "  'card_network': 'Visa',\n",
              "  'card_co_brand_name': 'null',\n",
              "  'joining_fees': 4999,\n",
              "  'annual_fees': 4999,\n",
              "  'annual_fees_waived_off': 'Spend INR 10 Lakh or more in a year to get a fee waiver',\n",
              "  'card_replacement_fees': 'null',\n",
              "  'minimum_repayment_amount': 'null',\n",
              "  'cash_withdrawal_fee': '2.5% of the withdrawn amount or INR 500, whichever is higher',\n",
              "  'cash_advance_fee': 'null',\n",
              "  'over_limit_fee': '2.5% of over-limit amount or INR 600, whichever is higher',\n",
              "  'late_payment_charges': ['Nil for total amount due from INR 0 to INR 500',\n",
              "   'INR 400 for total amount due greater than INR 500 & up to INR 1,000',\n",
              "   'INR 750 for total amount due greater than INR 1,000 & up to INR 10,000',\n",
              "   'INR 950 for total amount due greater than INR 10,000 & up to INR 25,000',\n",
              "   'INR 1,100 for total amount due greater than INR 25,000 & up to INR 50,000',\n",
              "   'INR 1,300 for total amount due greater than INR 50,000'],\n",
              "  'return_of_cheque_charges': 'INR 500',\n",
              "  'auto_debit_return_charges': ['INR 500 per returned transaction'],\n",
              "  'foreign_transaction_fee': '3.5% of the transaction amount',\n",
              "  'rent_pay_transaction_fee': 'null',\n",
              "  'education_transaction_fee': 'null',\n",
              "  'utility_transaction_fee': 'null',\n",
              "  'fuel_transaction_fee': 'null',\n",
              "  'fuel_transaction_surcharge': '1% surcharge waiver on fuel transactions across all petrol pumps for transactions between INR 500 to INR 4,000, maximum waiver of INR 250 per statement cycle',\n",
              "  'welcome_benefits': ['INR 5,000 worth of e-vouchers from Pantaloons, Hush Puppies/Bata, Aditya Birla Fashion, Shoppers Stop, and Yatra'],\n",
              "  'benefits_on_amazon': 'null',\n",
              "  'benefits_on_flipkart': 'null',\n",
              "  'benefits_on_myntra': 'null',\n",
              "  'benefits_on_messho': 'null',\n",
              "  'benefits_on_ola': 'null',\n",
              "  'benefits_on_uber': 'null',\n",
              "  'benefits_on_rapido': 'null',\n",
              "  'benefits_on_zomato': 'null',\n",
              "  'benefits_on_swiggy': 'null',\n",
              "  'benefits_on_blinkit': 'null',\n",
              "  'benefits_on_flipkart_grocery_minutes': 'null',\n",
              "  'benefits_on_zepto': 'null',\n",
              "  'benefits_on_big_basket': 'null',\n",
              "  'benefits_on_dmart': 'null',\n",
              "  'benefits_on_reliance_fresh': 'null',\n",
              "  'benefits_on_tata_star_bazzar': 'null',\n",
              "  'benefits_on_vishal_mega_mart': 'null',\n",
              "  'benefits_on_dominos': 'null',\n",
              "  'benefits_on_kfc': 'null',\n",
              "  'benefits_on_burger_king': 'null',\n",
              "  'benefits_on_wow_momo': 'null',\n",
              "  'benefits_on_mc_donalds': 'null',\n",
              "  'benefits_on_other_online_spends': ['5x Reward Points on Departmental Stores, Dining, Movies, Grocery, and International Transactions'],\n",
              "  'benefits_on_other_offline_spends': 'null',\n",
              "  'benefits_on_mobile_recharge': 'null',\n",
              "  'benefits_on_water_bill': 'null',\n",
              "  'benefits_on_gas_bill': 'null',\n",
              "  'benefits_on_electricity_bill': 'null',\n",
              "  'benefits_on_upi': 'null',\n",
              "  'benefits_on_insurance': 'null',\n",
              "  'benefits_on_govt_payments': 'null',\n",
              "  'benefits_on_rent_payments': 'null',\n",
              "  'benefits_on_fuel': ['1% fuel surcharge waiver'],\n",
              "  'benefits_on_travel': ['Complimentary Club Vistara Silver Membership',\n",
              "   '6 Complimentary Domestic Lounge Access visits per year'],\n",
              "  'benefits_on_lounge_access': ['Complimentary Priority Pass Membership for the primary cardholder',\n",
              "   '2 Complimentary International Lounge Visits per quarter through Priority Pass Program'],\n",
              "  'other_rewards': 'null',\n",
              "  'source': 'https://www.sbicard.com/en/personal/credit-cards/lifestyle/sbi-card-elite.page',\n",
              "  'card_image': nan,\n",
              "  'tnc': 'https://www.sbicard.com/sbi-card-en/assets/docs/pdf/personal/credit-cards/lifestyle/sbi-card-elite/elite-terms-and-conditions-2016.pdf',\n",
              "  'unique_name': 'sbi-card-elite.page'}]"
            ]
          },
          "metadata": {},
          "execution_count": 78
        }
      ]
    }
  ]
}