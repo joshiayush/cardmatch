{
  "nbformat": 4,
  "nbformat_minor": 0,
  "metadata": {
    "colab": {
      "provenance": [],
      "authorship_tag": "ABX9TyNTqDXUMKWpYrXVB9pXjqjj",
      "include_colab_link": true
    },
    "kernelspec": {
      "name": "python3",
      "display_name": "Python 3"
    },
    "language_info": {
      "name": "python"
    }
  },
  "cells": [
    {
      "cell_type": "markdown",
      "metadata": {
        "id": "view-in-github",
        "colab_type": "text"
      },
      "source": [
        "<a href=\"https://colab.research.google.com/github/joshiayush/cardmatch/blob/main/notebooks/card_seek_chain.ipynb\" target=\"_parent\"><img src=\"https://colab.research.google.com/assets/colab-badge.svg\" alt=\"Open In Colab\"/></a>"
      ]
    },
    {
      "cell_type": "code",
      "execution_count": 59,
      "metadata": {
        "id": "hpvi3cA7fg9c"
      },
      "outputs": [],
      "source": [
        "!pip install langchain >/dev/null\n",
        "!pip install langchain-community >/dev/null\n",
        "!pip install langchain-openai >/dev/null\n",
        "!pip install pypdf >/dev/null\n",
        "!pip install chromadb >/dev/null"
      ]
    },
    {
      "cell_type": "code",
      "source": [
        "import os\n",
        "import getpass"
      ],
      "metadata": {
        "id": "SfQduKH5f0-8"
      },
      "execution_count": 60,
      "outputs": []
    },
    {
      "cell_type": "code",
      "source": [
        "os.environ[\"LANGCHAIN_API_KEY\"] = getpass.getpass(\"LANGCHAIN_API_KEY:\")\n",
        "os.environ[\"OPENAI_API_KEY\"] = getpass.getpass(\"OPENAI_API_KEY:\")"
      ],
      "metadata": {
        "id": "2qNyFKBAf2UQ",
        "colab": {
          "base_uri": "https://localhost:8080/"
        },
        "outputId": "4f0268c8-6d0d-4333-baa1-004f6b707946"
      },
      "execution_count": 61,
      "outputs": [
        {
          "name": "stdout",
          "output_type": "stream",
          "text": [
            "LANGCHAIN_API_KEY:··········\n",
            "OPENAI_API_KEY:··········\n"
          ]
        }
      ]
    },
    {
      "cell_type": "code",
      "source": [
        "import pathlib\n",
        "import re\n",
        "from typing import Dict, Any\n",
        "\n",
        "import numpy as np\n",
        "import pandas as pd\n",
        "from langchain.schema import Document, BaseRetriever\n",
        "from langchain.document_loaders import (\n",
        "    PyPDFLoader,\n",
        "    TextLoader,\n",
        "    UnstructuredWordDocumentLoader,\n",
        "    UnstructuredEPubLoader,\n",
        "    WebBaseLoader,\n",
        ")\n",
        "from langchain.embeddings import OpenAIEmbeddings\n",
        "from langchain.text_splitter import RecursiveCharacterTextSplitter\n",
        "from langchain.vectorstores import Chroma\n",
        "from langchain.chains import ConversationalRetrievalChain\n",
        "from langchain.chains.base import Chain\n",
        "from langchain.chat_models import ChatOpenAI\n",
        "from langchain.memory import ConversationBufferMemory\n",
        "from langchain.prompts import PromptTemplate"
      ],
      "metadata": {
        "id": "L7xvQRP5gXvC"
      },
      "execution_count": 62,
      "outputs": []
    },
    {
      "cell_type": "code",
      "source": [
        "_cc_sheets = [\"sbi\", \"axis\", \"hdfc\"]\n",
        "\n",
        "\n",
        "def load_cc_info() -> Dict:\n",
        "    cc_info = dict()\n",
        "    for sheet in _cc_sheets:\n",
        "        df = pd.read_excel(\"cc_urls.xlsx\", sheet_name=sheet)\n",
        "        cc_info.update(df.set_index(\"card_name\").T.to_dict())\n",
        "    return cc_info"
      ],
      "metadata": {
        "id": "themSCGtgWp_"
      },
      "execution_count": 63,
      "outputs": []
    },
    {
      "cell_type": "code",
      "source": [
        "credit_cards_info = load_cc_info()"
      ],
      "metadata": {
        "id": "rv_78TvPgcfC",
        "colab": {
          "base_uri": "https://localhost:8080/"
        },
        "outputId": "c5a3feb9-9a9c-4853-e028-35f27087d307"
      },
      "execution_count": 64,
      "outputs": [
        {
          "output_type": "stream",
          "name": "stderr",
          "text": [
            "<ipython-input-63-481e6df65adc>:8: UserWarning: DataFrame columns are not unique, some columns will be omitted.\n",
            "  cc_info.update(df.set_index(\"card_name\").T.to_dict())\n",
            "<ipython-input-63-481e6df65adc>:8: UserWarning: DataFrame columns are not unique, some columns will be omitted.\n",
            "  cc_info.update(df.set_index(\"card_name\").T.to_dict())\n"
          ]
        }
      ]
    },
    {
      "cell_type": "code",
      "source": [
        "class DocumentLoaderException(Exception):\n",
        "    pass"
      ],
      "metadata": {
        "id": "E4cllJCgs0FL"
      },
      "execution_count": 65,
      "outputs": []
    },
    {
      "cell_type": "code",
      "source": [
        "class EPubReader(UnstructuredEPubLoader):\n",
        "    def __init__(self, file_path: str | list[str], **kwargs: Any):\n",
        "        super().__init__(file_path, **kwargs, mode=\"elements\", strategy=\"fast\")"
      ],
      "metadata": {
        "id": "q5QXfVgcs3BE"
      },
      "execution_count": 66,
      "outputs": []
    },
    {
      "cell_type": "code",
      "source": [
        "class DocumentLoader(object):\n",
        "    \"\"\"Loads in a document with a supported extension.\"\"\"\n",
        "\n",
        "    supported_extensions = {\n",
        "        \".pdf\": PyPDFLoader,\n",
        "        \".txt\": TextLoader,\n",
        "        \".epub\": EPubReader,\n",
        "        \".docx\": UnstructuredWordDocumentLoader,\n",
        "        \".doc\": UnstructuredWordDocumentLoader,\n",
        "    }"
      ],
      "metadata": {
        "id": "H7ilVwo4tUNp"
      },
      "execution_count": 67,
      "outputs": []
    },
    {
      "cell_type": "code",
      "source": [
        "def load_document(filepath: str) -> list[Document]:\n",
        "  \"\"\"Load a file and return it as a list of Document.\"\"\"\n",
        "  ext = pathlib.Path(filepath).suffix\n",
        "\n",
        "  loader = DocumentLoader.supported_extensions.get(ext)\n",
        "  if not loader:\n",
        "    raise DocumentLoaderException(f\"Unsupported file extension: {ext}\")\n",
        "\n",
        "  return loader(filepath).load()"
      ],
      "metadata": {
        "id": "U548GwSut5Ci"
      },
      "execution_count": 68,
      "outputs": []
    },
    {
      "cell_type": "code",
      "source": [
        "def configure_retriever(docs: list[Document]) -> BaseRetriever:\n",
        "    \"\"\"Retriever to use.\"\"\"\n",
        "    text_splitter = RecursiveCharacterTextSplitter(chunk_size=1500, chunk_overlap=200)\n",
        "    splits = text_splitter.split_documents(docs)\n",
        "    embeddings = OpenAIEmbeddings()\n",
        "    vectordb = Chroma.from_documents(splits, embeddings)\n",
        "    return vectordb.as_retriever(\n",
        "        search_type=\"mmr\", search_kwargs={\"k\": 2, \"fetch_k\": 4}\n",
        "    )"
      ],
      "metadata": {
        "id": "8py7pLsnuj_T"
      },
      "execution_count": 69,
      "outputs": []
    },
    {
      "cell_type": "code",
      "source": [
        "def configure_chain(retriever: BaseRetriever) -> Chain:\n",
        "    \"\"\"Configure chain with a retriever.\"\"\"\n",
        "    memory = ConversationBufferMemory(memory_key=\"chat_history\", return_messages=True)\n",
        "    llm = ChatOpenAI(model_name=\"gpt-4o\", temperature=0)\n",
        "    return ConversationalRetrievalChain.from_llm(\n",
        "        llm, retriever=retriever, memory=memory, verbose=True,\n",
        "    )"
      ],
      "metadata": {
        "id": "nrbGEtlTwTvZ"
      },
      "execution_count": 70,
      "outputs": []
    },
    {
      "cell_type": "code",
      "source": [
        "def configure_qa_chain(cc_info: Dict) -> Chain:\n",
        "    \"\"\"Read documents, configure retriever, and the chain.\"\"\"\n",
        "    docs = []\n",
        "    for key, info in cc_info.items():\n",
        "        if info[\"card_link\"] is np.nan:\n",
        "            continue\n",
        "\n",
        "        card_doc = WebBaseLoader(info[\"card_link\"]).load()\n",
        "        docs.extend(card_doc)\n",
        "\n",
        "        tnc_doc = load_document(info[\"tnc\"])\n",
        "        docs.extend(tnc_doc)\n",
        "        break\n",
        "\n",
        "    retriever = configure_retriever(docs)\n",
        "    return configure_chain(retriever)"
      ],
      "metadata": {
        "id": "FB6S7rBxxFjV"
      },
      "execution_count": 71,
      "outputs": []
    },
    {
      "cell_type": "code",
      "source": [
        "qa_chain = configure_qa_chain(credit_cards_info)"
      ],
      "metadata": {
        "id": "mo6vOfypyJgG"
      },
      "execution_count": 72,
      "outputs": []
    },
    {
      "cell_type": "code",
      "source": [
        "qa_chain.run(\"What is the full name of the credit card?\")"
      ],
      "metadata": {
        "colab": {
          "base_uri": "https://localhost:8080/",
          "height": 857
        },
        "id": "B9q4cxe_yvPX",
        "outputId": "5a3cbcb7-ffe9-4e20-c330-2e4ef73a88de"
      },
      "execution_count": 73,
      "outputs": [
        {
          "output_type": "stream",
          "name": "stdout",
          "text": [
            "\n",
            "\n",
            "\u001b[1m> Entering new StuffDocumentsChain chain...\u001b[0m\n",
            "\n",
            "\n",
            "\u001b[1m> Entering new LLMChain chain...\u001b[0m\n",
            "Prompt after formatting:\n",
            "\u001b[32;1m\u001b[1;3mSystem: Use the following pieces of context to answer the user's question. \n",
            "If you don't know the answer, just say that you don't know, don't try to make up an answer.\n",
            "----------------\n",
            "Card App upon termination of your Mobile Credit Card \n",
            "  (b)  You are fully responsible for any disclosure of your SBI Credit Card Details, Device Passcode or other security details relating to your \n",
            "Eligible Device, Token Requestor and Mobile Credit Card to any other person, even if such disclosure is accidental or unauthorised. You are \n",
            "required to bear all risks and consequences of your Token Requestor and Mobile Credit Card being used by unauthorised persons or for \n",
            "unauthorised purposes. \n",
            "  (c)  You have to use an Eligible Device of a type or model specified by Token Requestor from time to time to register, store and use Mobile \n",
            "Credit Card in your Mobile Wallet. Token Requestor have the right to vary the type or model or withdraw an existing type or model of \n",
            "Eligible Device at any time without prior notice. \n",
            "  (d)  You require Internet connection, compatible telecommunications equipment and mobile phone service plan (if applicable) in order to \n",
            "register, store and use your Mobile Credit Card. \n",
            " 4.  Card Account and credit limit \n",
            "  (a) SBI Credit Card in its plastic card form and in its digital version (i.e. Mobile Credit Card) constitute one and the same Card and share the \n",
            "same Card Account. \n",
            "  (b)  All Mobile Credit Card Transactions will be billed to card statement of the SBI Credit Card. There will not be a separate statement for your \n",
            "Mobile Credit Card.\n",
            "\n",
            "Card App upon termination of your Mobile Credit Card \n",
            "  (b)  You are fully responsible for any disclosure of your SBI Credit Card Details, Device Passcode or other security details relating to your \n",
            "Eligible Device, Token Requestor and Mobile Credit Card to any other person, even if such disclosure is accidental or unauthorised. You are \n",
            "required to bear all risks and consequences of your Token Requestor and Mobile Credit Card being used by unauthorised persons or for \n",
            "unauthorised purposes. \n",
            "  (c)  You have to use an Eligible Device of a type or model specified by Token Requestor from time to time to register, store and use Mobile \n",
            "Credit Card in your Mobile Wallet. Token Requestor have the right to vary the type or model or withdraw an existing type or model of \n",
            "Eligible Device at any time without prior notice. \n",
            "  (d)  You require Internet connection, compatible telecommunications equipment and mobile phone service plan (if applicable) in order to \n",
            "register, store and use your Mobile Credit Card. \n",
            " 4.  Card Account and credit limit \n",
            "  (a) SBI Credit Card in its plastic card form and in its digital version (i.e. Mobile Credit Card) constitute one and the same Card and share the \n",
            "same Card Account. \n",
            "  (b)  All Mobile Credit Card Transactions will be billed to card statement of the SBI Credit Card. There will not be a separate statement for your \n",
            "Mobile Credit Card.\n",
            "Human: What is the full name of the credit card?\u001b[0m\n",
            "\n",
            "\u001b[1m> Finished chain.\u001b[0m\n",
            "\n",
            "\u001b[1m> Finished chain.\u001b[0m\n"
          ]
        },
        {
          "output_type": "execute_result",
          "data": {
            "text/plain": [
              "'The full name of the credit card is \"SBI Credit Card.\"'"
            ],
            "application/vnd.google.colaboratory.intrinsic+json": {
              "type": "string"
            }
          },
          "metadata": {},
          "execution_count": 73
        }
      ]
    },
    {
      "cell_type": "code",
      "source": [
        "qa_chain.run(\"What is the joining fee of this credit card?\")"
      ],
      "metadata": {
        "colab": {
          "base_uri": "https://localhost:8080/",
          "height": 1000
        },
        "id": "07ylOD4Vzj4F",
        "outputId": "6a81baf5-9243-4558-86a8-f7ffacca4cf1"
      },
      "execution_count": 74,
      "outputs": [
        {
          "output_type": "stream",
          "name": "stdout",
          "text": [
            "\n",
            "\n",
            "\u001b[1m> Entering new LLMChain chain...\u001b[0m\n",
            "Prompt after formatting:\n",
            "\u001b[32;1m\u001b[1;3mGiven the following conversation and a follow up question, rephrase the follow up question to be a standalone question, in its original language.\n",
            "\n",
            "Chat History:\n",
            "\n",
            "Human: What is the full name of the credit card?\n",
            "Assistant: The full name of the credit card is \"SBI Credit Card.\"\n",
            "Follow Up Input: What is the joining fee of this credit card?\n",
            "Standalone question:\u001b[0m\n",
            "\n",
            "\u001b[1m> Finished chain.\u001b[0m\n",
            "\n",
            "\n",
            "\u001b[1m> Entering new StuffDocumentsChain chain...\u001b[0m\n",
            "\n",
            "\n",
            "\u001b[1m> Entering new LLMChain chain...\u001b[0m\n",
            "Prompt after formatting:\n",
            "\u001b[32;1m\u001b[1;3mSystem: Use the following pieces of context to answer the user's question. \n",
            "If you don't know the answer, just say that you don't know, don't try to make up an answer.\n",
            "----------------\n",
            "SBI CARDS-MOST IMPORTANT TERMS & CONDITIONS\n",
            "1. *FEES AND CHARGES\n",
            "A. Annual Fees & Renewal Fees\n",
            "There is Annual Fee and Renewal Fee applicable on the SBI Credit Card (SBI Card). Annual fee is a \n",
            "one-time charge ranging between Rs.0 to Rs.9,999 plus applicable taxes and renewal fee is charged every \n",
            "year and ranges between Rs.0 to Rs.9,999 plus applicable taxes. These fees may vary from Cardholder to \n",
            "Cardholder and for different card variants. These shall be as communicated to the Cardholder at the time of \n",
            "applying for the credit card. These fees,as applicable, are charged to the Cardholder account and the same \n",
            "would be billed in the card statement of the month in which it is charged. There may be separate fees for \n",
            "additional cards issued to the Primary Cardholder\n",
            "B. Cash Advance Fees\n",
            "The Cardholder can use the Card to access cash in an emergency from domestic /international ATMs. A \n",
            "transaction fee would be levied on all such withdrawals and would be billed to the Cardholder in the next \n",
            "statement. A transaction fee of 2.5% or Rs.500 whichever is higher at domestic ATMs and 2.5% or Rs.500, \n",
            "whichever is higher at international ATMs will be levied. The transaction fee is subject to change at the \n",
            "discretion of SBI Cards and Payment Services Limited, SBICPSL (formerly known as SBI Cards and \n",
            "Payment Services Private Limited). All cash advances also carry a finance charge equal to charges on\n",
            "\n",
            "SBI CARDS-MOST IMPORTANT TERMS & CONDITIONS\n",
            "1. *FEES AND CHARGES\n",
            "A. Annual Fees & Renewal Fees\n",
            "There is Annual Fee and Renewal Fee applicable on the SBI Credit Card (SBI Card). Annual fee is a \n",
            "one-time charge ranging between Rs.0 to Rs.9,999 plus applicable taxes and renewal fee is charged every \n",
            "year and ranges between Rs.0 to Rs.9,999 plus applicable taxes. These fees may vary from Cardholder to \n",
            "Cardholder and for different card variants. These shall be as communicated to the Cardholder at the time of \n",
            "applying for the credit card. These fees,as applicable, are charged to the Cardholder account and the same \n",
            "would be billed in the card statement of the month in which it is charged. There may be separate fees for \n",
            "additional cards issued to the Primary Cardholder\n",
            "B. Cash Advance Fees\n",
            "The Cardholder can use the Card to access cash in an emergency from domestic /international ATMs. A \n",
            "transaction fee would be levied on all such withdrawals and would be billed to the Cardholder in the next \n",
            "statement. A transaction fee of 2.5% or Rs.500 whichever is higher at domestic ATMs and 2.5% or Rs.500, \n",
            "whichever is higher at international ATMs will be levied. The transaction fee is subject to change at the \n",
            "discretion of SBI Cards and Payment Services Limited, SBICPSL (formerly known as SBI Cards and \n",
            "Payment Services Private Limited). All cash advances also carry a finance charge equal to charges on\n",
            "Human: What is the joining fee of the SBI Credit Card?\u001b[0m\n",
            "\n",
            "\u001b[1m> Finished chain.\u001b[0m\n",
            "\n",
            "\u001b[1m> Finished chain.\u001b[0m\n"
          ]
        },
        {
          "output_type": "execute_result",
          "data": {
            "text/plain": [
              "'The joining fee, referred to as the annual fee, for the SBI Credit Card ranges between Rs.0 to Rs.9,999 plus applicable taxes. The specific fee applicable to a cardholder would be communicated at the time of applying for the credit card.'"
            ],
            "application/vnd.google.colaboratory.intrinsic+json": {
              "type": "string"
            }
          },
          "metadata": {},
          "execution_count": 74
        }
      ]
    },
    {
      "cell_type": "code",
      "source": [
        "qa_chain.run(\"What benefits do I get in movie tickets every month?\")"
      ],
      "metadata": {
        "colab": {
          "base_uri": "https://localhost:8080/",
          "height": 1000
        },
        "id": "7Nj_krq-2nVi",
        "outputId": "26b250b7-c14f-4406-e88f-b804fc7f8f64"
      },
      "execution_count": 75,
      "outputs": [
        {
          "output_type": "stream",
          "name": "stdout",
          "text": [
            "\n",
            "\n",
            "\u001b[1m> Entering new LLMChain chain...\u001b[0m\n",
            "Prompt after formatting:\n",
            "\u001b[32;1m\u001b[1;3mGiven the following conversation and a follow up question, rephrase the follow up question to be a standalone question, in its original language.\n",
            "\n",
            "Chat History:\n",
            "\n",
            "Human: What is the full name of the credit card?\n",
            "Assistant: The full name of the credit card is \"SBI Credit Card.\"\n",
            "Human: What is the joining fee of this credit card?\n",
            "Assistant: The joining fee, referred to as the annual fee, for the SBI Credit Card ranges between Rs.0 to Rs.9,999 plus applicable taxes. The specific fee applicable to a cardholder would be communicated at the time of applying for the credit card.\n",
            "Follow Up Input: What benefits do I get in movie tickets every month?\n",
            "Standalone question:\u001b[0m\n",
            "\n",
            "\u001b[1m> Finished chain.\u001b[0m\n",
            "\n",
            "\n",
            "\u001b[1m> Entering new StuffDocumentsChain chain...\u001b[0m\n",
            "\n",
            "\n",
            "\u001b[1m> Entering new LLMChain chain...\u001b[0m\n",
            "Prompt after formatting:\n",
            "\u001b[32;1m\u001b[1;3mSystem: Use the following pieces of context to answer the user's question. \n",
            "If you don't know the answer, just say that you don't know, don't try to make up an answer.\n",
            "----------------\n",
            "Process for availing the Free Movie Tickets:\n",
            "a) This offering is from SBI Cards and Payment Services Limited (“SBICPSL”) under a joint promotional and marketing arrangement with M/s Big Tree \n",
            "Entertainment Private Limited (“ Book My Show”) as a marketing offer for its SBI Card ELITE variant of Credit Cardholders (“Cardholder”) as may be \n",
            "communicated by SBICPSL via various medium chosen by it.\n",
            "b) This offer is valid on Primary Cards only.\n",
            "c) The benefits of this offer will be in accordance to the Terms and Conditions of BookMyShow which are made applicable by BookMyShow \n",
            "concurrently with these terms and SBICPSL has no responsibility nor accepts any liability for the services that customer gets from BookMyShow.\n",
            "d) Customer is required to log on to www.bookmyshow.com website.\n",
            "e) Customer to choose the Movie Show, Cinema Hall & the Show Timing for booking.\n",
            "f) Customer to select/ book two (2) or more tickets/seats basis availability.\n",
            "g) Customer to provide his e-mail ID & Mobile Number & proceed to make payments.\n",
            "h) Customer to enter his SBI Card ELITE details in the Credit Cards Section.\n",
            "i) To avail the discount, customer needs to select the Avail Offers Section and select Offers from the Menu. Post this customer would get another \n",
            "drop down menu from which customer needs to select the SBI Card ELITE option & click on the “Apply Offer” button.\n",
            "j) The total amount payable for the tickets would be reduced by Rs.500 or the cost of 2 tickets, whichever \n",
            "is less.\n",
            "\n",
            "Process for availing the Free Movie Tickets:\n",
            "a) This offering is from SBI Cards and Payment Services Limited (“SBICPSL”) under a joint promotional and marketing arrangement with M/s Big Tree \n",
            "Entertainment Private Limited (“ Book My Show”) as a marketing offer for its SBI Card ELITE variant of Credit Cardholders (“Cardholder”) as may be \n",
            "communicated by SBICPSL via various medium chosen by it.\n",
            "b) This offer is valid on Primary Cards only.\n",
            "c) The benefits of this offer will be in accordance to the Terms and Conditions of BookMyShow which are made applicable by BookMyShow \n",
            "concurrently with these terms and SBICPSL has no responsibility nor accepts any liability for the services that customer gets from BookMyShow.\n",
            "d) Customer is required to log on to www.bookmyshow.com website.\n",
            "e) Customer to choose the Movie Show, Cinema Hall & the Show Timing for booking.\n",
            "f) Customer to select/ book two (2) or more tickets/seats basis availability.\n",
            "g) Customer to provide his e-mail ID & Mobile Number & proceed to make payments.\n",
            "h) Customer to enter his SBI Card ELITE details in the Credit Cards Section.\n",
            "i) To avail the discount, customer needs to select the Avail Offers Section and select Offers from the Menu. Post this customer would get another \n",
            "drop down menu from which customer needs to select the SBI Card ELITE option & click on the “Apply Offer” button.\n",
            "j) The total amount payable for the tickets would be reduced by Rs.500 or the cost of 2 tickets, whichever \n",
            "is less.\n",
            "Human: What benefits do I get in movie tickets every month with the SBI Credit Card?\u001b[0m\n",
            "\n",
            "\u001b[1m> Finished chain.\u001b[0m\n",
            "\n",
            "\u001b[1m> Finished chain.\u001b[0m\n"
          ]
        },
        {
          "output_type": "execute_result",
          "data": {
            "text/plain": [
              "'With the SBI Card ELITE variant, you can avail a discount on movie tickets every month. The total amount payable for the tickets would be reduced by Rs. 500 or the cost of 2 tickets, whichever is less. This offer is valid on primary cards only and is subject to the terms and conditions of BookMyShow.'"
            ],
            "application/vnd.google.colaboratory.intrinsic+json": {
              "type": "string"
            }
          },
          "metadata": {},
          "execution_count": 75
        }
      ]
    }
  ]
}