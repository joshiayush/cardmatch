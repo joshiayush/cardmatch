{
  "nbformat": 4,
  "nbformat_minor": 0,
  "metadata": {
    "colab": {
      "provenance": [],
      "authorship_tag": "ABX9TyNVd4XEgrgaJBYdT/5sxYxE",
      "include_colab_link": true
    },
    "kernelspec": {
      "name": "python3",
      "display_name": "Python 3"
    },
    "language_info": {
      "name": "python"
    }
  },
  "cells": [
    {
      "cell_type": "markdown",
      "metadata": {
        "id": "view-in-github",
        "colab_type": "text"
      },
      "source": [
        "<a href=\"https://colab.research.google.com/github/joshiayush/cardmatch/blob/main/notebooks/card_seek_chain.ipynb\" target=\"_parent\"><img src=\"https://colab.research.google.com/assets/colab-badge.svg\" alt=\"Open In Colab\"/></a>"
      ]
    },
    {
      "cell_type": "code",
      "execution_count": 1,
      "metadata": {
        "id": "hpvi3cA7fg9c"
      },
      "outputs": [],
      "source": [
        "!pip install langchain >/dev/null\n",
        "!pip install langchain-groq >/dev/null\n",
        "!pip install langchain-community >/dev/null\n",
        "!pip install langchain-openai >/dev/null"
      ]
    },
    {
      "cell_type": "code",
      "source": [
        "import os\n",
        "import getpass"
      ],
      "metadata": {
        "id": "SfQduKH5f0-8"
      },
      "execution_count": 2,
      "outputs": []
    },
    {
      "cell_type": "code",
      "source": [
        "os.environ[\"LANGCHAIN_API_KEY\"] = getpass.getpass(\"LANGCHAIN_API_KEY:\")\n",
        "os.environ[\"OPENAI_API_KEY\"] = getpass.getpass(\"OPENAI_API_KEY:\")"
      ],
      "metadata": {
        "id": "2qNyFKBAf2UQ"
      },
      "execution_count": null,
      "outputs": []
    },
    {
      "cell_type": "code",
      "source": [
        "from typing import Dict\n",
        "\n",
        "import pandas as pd"
      ],
      "metadata": {
        "id": "L7xvQRP5gXvC"
      },
      "execution_count": null,
      "outputs": []
    },
    {
      "cell_type": "code",
      "source": [
        "_cc_sheets = [\"sbi\", \"axis\", \"hdfc\"]\n",
        "\n",
        "\n",
        "def load_cc_info() -> Dict:\n",
        "    cc_info = dict()\n",
        "    for sheet in _cc_sheets:\n",
        "        df = pd.read_excel(\"cc_urls.xlsx\", sheet_name=sheet)\n",
        "        cc_info.update(df.set_index(\"card_name\").T.to_dict())\n",
        "    return cc_info"
      ],
      "metadata": {
        "id": "themSCGtgWp_"
      },
      "execution_count": null,
      "outputs": []
    },
    {
      "cell_type": "code",
      "source": [
        "credit_cards_info = load_cc_info()"
      ],
      "metadata": {
        "id": "rv_78TvPgcfC"
      },
      "execution_count": null,
      "outputs": []
    }
  ]
}